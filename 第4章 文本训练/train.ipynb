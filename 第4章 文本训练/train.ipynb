{
 "cells": [
  {
   "cell_type": "code",
   "execution_count": 1,
   "id": "46ccab68",
   "metadata": {},
   "outputs": [],
   "source": [
    "#第4章/全局常量\n",
    "repo_id = 'lansinuote/diffusion.2.textual_inversion'\n",
    "checkpoint = 'runwayml/stable-diffusion-v1-5'"
   ]
  },
  {
   "cell_type": "code",
   "execution_count": 2,
   "id": "f37aab71",
   "metadata": {},
   "outputs": [
    {
     "data": {
      "text/plain": [
       "Dataset({\n",
       "    features: ['image'],\n",
       "    num_rows: 6\n",
       "})"
      ]
     },
     "execution_count": 2,
     "metadata": {},
     "output_type": "execute_result"
    }
   ],
   "source": [
    "#第4章/加载数据集\n",
    "from datasets import Dataset\n",
    "import PIL.Image\n",
    "\n",
    "\n",
    "def get_dataset():\n",
    "    images = [{\n",
    "        'image': PIL.Image.open('images/%d.jpeg' % i)\n",
    "    } for i in range(6)]\n",
    "\n",
    "    return Dataset.from_list(images)\n",
    "\n",
    "\n",
    "get_dataset()"
   ]
  },
  {
   "cell_type": "code",
   "execution_count": 3,
   "id": "385799b2",
   "metadata": {},
   "outputs": [
    {
     "name": "stderr",
     "output_type": "stream",
     "text": [
      "Using custom data configuration lansinuote--diffusion.2.textual_inversion-3f03ac153edd3f09\n",
      "Found cached dataset parquet (/root/.cache/huggingface/datasets/lansinuote___parquet/lansinuote--diffusion.2.textual_inversion-3f03ac153edd3f09/0.0.0/2a3b91fbd88a2c90d1dbbb32b460cf621d31bd5b05b934492fdef7d8d6f236ec)\n"
     ]
    },
    {
     "data": {
      "text/plain": [
       "(Dataset({\n",
       "     features: ['image'],\n",
       "     num_rows: 6\n",
       " }),\n",
       " {'image': <PIL.JpegImagePlugin.JpegImageFile image mode=RGB size=1167x1010>})"
      ]
     },
     "execution_count": 3,
     "metadata": {},
     "output_type": "execute_result"
    }
   ],
   "source": [
    "#第4章/在线加载数据集\n",
    "from datasets import load_dataset\n",
    "\n",
    "dataset = load_dataset(path=repo_id, split='train')\n",
    "\n",
    "dataset, dataset[0]"
   ]
  },
  {
   "cell_type": "code",
   "execution_count": 4,
   "id": "8c63fb85",
   "metadata": {},
   "outputs": [],
   "source": [
    "#第4章/定义描述文本\n",
    "texts = [\n",
    "    'a photo of a <cat-toy>', 'a rendering of a <cat-toy>',\n",
    "    'a cropped photo of the <cat-toy>', 'the photo of a <cat-toy>',\n",
    "    'a photo of a clean <cat-toy>', 'a photo of a dirty <cat-toy>',\n",
    "    'a dark photo of the <cat-toy>', 'a photo of my <cat-toy>',\n",
    "    'a photo of the cool <cat-toy>', 'a close-up photo of a <cat-toy>',\n",
    "    'a bright photo of the <cat-toy>', 'a cropped photo of a <cat-toy>',\n",
    "    'a photo of the <cat-toy>', 'a good photo of the <cat-toy>',\n",
    "    'a photo of one <cat-toy>', 'a close-up photo of the <cat-toy>',\n",
    "    'a rendition of the <cat-toy>', 'a photo of the clean <cat-toy>',\n",
    "    'a rendition of a <cat-toy>', 'a photo of a nice <cat-toy>',\n",
    "    'a good photo of a <cat-toy>', 'a photo of the nice <cat-toy>',\n",
    "    'a photo of the small <cat-toy>', 'a photo of the weird <cat-toy>',\n",
    "    'a photo of the large <cat-toy>', 'a photo of a cool <cat-toy>',\n",
    "    'a photo of a small <cat-toy>'\n",
    "]"
   ]
  },
  {
   "cell_type": "code",
   "execution_count": 5,
   "id": "880422b3",
   "metadata": {},
   "outputs": [
    {
     "name": "stdout",
     "output_type": "stream",
     "text": [
      "input_ids torch.Size([77]) torch.int64\n",
      "pixel_values torch.Size([3, 512, 512]) torch.float32\n"
     ]
    },
    {
     "data": {
      "text/plain": [
       "Dataset({\n",
       "    features: ['image'],\n",
       "    num_rows: 6\n",
       "})"
      ]
     },
     "execution_count": 5,
     "metadata": {},
     "output_type": "execute_result"
    }
   ],
   "source": [
    "#第4章/数据集预处理\n",
    "import torchvision\n",
    "import random\n",
    "import numpy as np\n",
    "from transformers import CLIPTokenizer\n",
    "import torch\n",
    "\n",
    "#文字编码\n",
    "tokenizer = CLIPTokenizer.from_pretrained(checkpoint, subfolder='tokenizer')\n",
    "\n",
    "#数据增强\n",
    "compose = torchvision.transforms.Compose([\n",
    "    torchvision.transforms.RandomHorizontalFlip(p=0.5),\n",
    "])\n",
    "\n",
    "\n",
    "def f(data):\n",
    "    #编码文字\n",
    "    #77 = tokenizer.model_max_length\n",
    "    input_ids = tokenizer(random.choice(texts),\n",
    "                          padding='max_length',\n",
    "                          truncation=True,\n",
    "                          max_length=77,\n",
    "                          return_tensors='pt')['input_ids']\n",
    "\n",
    "    #编码图片\n",
    "    pixel_values = []\n",
    "    for i in range(len(data['image'])):\n",
    "        image = data['image'][i]\n",
    "\n",
    "        #数据增强\n",
    "        image = compose(image)\n",
    "\n",
    "        #尺寸缩放\n",
    "        image = image.resize((512, 512), resample=PIL.Image.Resampling.BICUBIC)\n",
    "\n",
    "        #数值操作\n",
    "        image = np.array(image).astype(np.uint8)\n",
    "        image = image / 127.5 - 1.0\n",
    "        image = image.astype(np.float32)\n",
    "\n",
    "        #转tensor,把通道维度放在前面\n",
    "        #[512, 512, 3] -> [3, 512, 512]\n",
    "        image = torch.from_numpy(image).permute(2, 0, 1)\n",
    "\n",
    "        pixel_values.append(image)\n",
    "\n",
    "    return {'input_ids': input_ids, 'pixel_values': pixel_values}\n",
    "\n",
    "\n",
    "dataset = dataset.with_transform(f)\n",
    "\n",
    "for k, v in dataset[0].items():\n",
    "    print(k, v.shape, v.dtype)\n",
    "\n",
    "dataset"
   ]
  },
  {
   "cell_type": "code",
   "execution_count": 6,
   "id": "51d14644",
   "metadata": {
    "scrolled": true
   },
   "outputs": [
    {
     "name": "stdout",
     "output_type": "stream",
     "text": [
      "input_ids torch.Size([1, 77]) torch.int64\n",
      "pixel_values torch.Size([1, 3, 512, 512]) torch.float32\n"
     ]
    },
    {
     "data": {
      "text/plain": [
       "6"
      ]
     },
     "execution_count": 6,
     "metadata": {},
     "output_type": "execute_result"
    }
   ],
   "source": [
    "#第4章/定义loader\n",
    "loader = torch.utils.data.DataLoader(dataset, batch_size=1, shuffle=True)\n",
    "\n",
    "for k, v in next(iter(loader)).items():\n",
    "    print(k, v.shape, v.dtype)\n",
    "\n",
    "len(loader)"
   ]
  },
  {
   "cell_type": "code",
   "execution_count": 7,
   "id": "f58e68f0",
   "metadata": {},
   "outputs": [
    {
     "name": "stdout",
     "output_type": "stream",
     "text": [
      "encoder 12306.048\n",
      "vae 8365.3863\n",
      "unet 85952.0964\n"
     ]
    }
   ],
   "source": [
    "#第4章/加载模型\n",
    "from transformers import CLIPTextModel\n",
    "from diffusers import AutoencoderKL, UNet2DConditionModel\n",
    "\n",
    "encoder = CLIPTextModel.from_pretrained(checkpoint, subfolder='text_encoder')\n",
    "vae = AutoencoderKL.from_pretrained(checkpoint, subfolder='vae')\n",
    "unet = UNet2DConditionModel.from_pretrained(checkpoint, subfolder='unet')\n",
    "\n",
    "\n",
    "def print_model_size(name, model):\n",
    "    print(name, sum(i.numel() for i in model.parameters()) / 10000)\n",
    "\n",
    "\n",
    "print_model_size('encoder', encoder)\n",
    "print_model_size('vae', vae)\n",
    "print_model_size('unet', unet)"
   ]
  },
  {
   "cell_type": "code",
   "execution_count": 8,
   "id": "c0fc8a01",
   "metadata": {},
   "outputs": [],
   "source": [
    "#第4章/添加新词\n",
    "def init_new_word():\n",
    "    #字典里添加新词\n",
    "    tokenizer.add_tokens('<cat-toy>')\n",
    "\n",
    "    #扩展encoder的embed层,添加一个新空间用于容纳新词\n",
    "    encoder.resize_token_embeddings(len(tokenizer))\n",
    "\n",
    "    #取新旧两个词的id\n",
    "    old_id = tokenizer.convert_tokens_to_ids('toy')\n",
    "    new_id = tokenizer.convert_tokens_to_ids('<cat-toy>')\n",
    "\n",
    "    embed = encoder.get_input_embeddings().weight.data\n",
    "\n",
    "    #以旧词来初始化新词\n",
    "    embed[new_id] = embed[old_id]\n",
    "\n",
    "\n",
    "init_new_word()"
   ]
  },
  {
   "cell_type": "code",
   "execution_count": 9,
   "id": "f64a3ff9",
   "metadata": {},
   "outputs": [
    {
     "data": {
      "text/plain": [
       "Embedding(77, 768)"
      ]
     },
     "execution_count": 9,
     "metadata": {},
     "output_type": "execute_result"
    }
   ],
   "source": [
    "#第4章/锁定部分模型参数\n",
    "#这两个模型不更新参数\n",
    "vae.requires_grad_(False)\n",
    "unet.requires_grad_(False)\n",
    "\n",
    "#只训练encoder.text_model.embeddings.token_embedding层,其他全部锁定\n",
    "encoder.text_model.encoder.requires_grad_(False)\n",
    "encoder.text_model.final_layer_norm.requires_grad_(False)\n",
    "encoder.text_model.embeddings.position_embedding.requires_grad_(False)"
   ]
  },
  {
   "cell_type": "code",
   "execution_count": 10,
   "id": "a76101f2",
   "metadata": {},
   "outputs": [
    {
     "data": {
      "text/plain": [
       "(DDPMScheduler {\n",
       "   \"_class_name\": \"DDPMScheduler\",\n",
       "   \"_diffusers_version\": \"0.15.1\",\n",
       "   \"beta_end\": 0.012,\n",
       "   \"beta_schedule\": \"scaled_linear\",\n",
       "   \"beta_start\": 0.00085,\n",
       "   \"clip_sample\": false,\n",
       "   \"clip_sample_range\": 1.0,\n",
       "   \"dynamic_thresholding_ratio\": 0.995,\n",
       "   \"num_train_timesteps\": 1000,\n",
       "   \"prediction_type\": \"epsilon\",\n",
       "   \"sample_max_value\": 1.0,\n",
       "   \"set_alpha_to_one\": false,\n",
       "   \"skip_prk_steps\": true,\n",
       "   \"steps_offset\": 1,\n",
       "   \"thresholding\": false,\n",
       "   \"trained_betas\": null,\n",
       "   \"variance_type\": \"fixed_small\"\n",
       " },\n",
       " AdamW (\n",
       " Parameter Group 0\n",
       "     amsgrad: False\n",
       "     betas: (0.9, 0.999)\n",
       "     capturable: False\n",
       "     eps: 1e-08\n",
       "     foreach: None\n",
       "     lr: 0.0005\n",
       "     maximize: False\n",
       "     weight_decay: 0.01\n",
       " ),\n",
       " MSELoss())"
      ]
     },
     "execution_count": 10,
     "metadata": {},
     "output_type": "execute_result"
    }
   ],
   "source": [
    "#第4章/初始化工具类\n",
    "from diffusers import DDPMScheduler\n",
    "\n",
    "scheduler = DDPMScheduler.from_pretrained(checkpoint, subfolder='scheduler')\n",
    "\n",
    "optimizer = torch.optim.AdamW(encoder.get_input_embeddings().parameters(),\n",
    "                              lr=5e-4,\n",
    "                              betas=(0.9, 0.999),\n",
    "                              weight_decay=0.01,\n",
    "                              eps=1e-8)\n",
    "\n",
    "criterion = torch.nn.MSELoss()\n",
    "\n",
    "scheduler, optimizer, criterion"
   ]
  },
  {
   "cell_type": "code",
   "execution_count": 11,
   "id": "a0ca6c9a",
   "metadata": {},
   "outputs": [
    {
     "data": {
      "text/plain": [
       "tensor(0.0791, grad_fn=<MseLossBackward0>)"
      ]
     },
     "execution_count": 11,
     "metadata": {},
     "output_type": "execute_result"
    }
   ],
   "source": [
    "#第4章/定义计算loss的函数\n",
    "def get_loss(data):\n",
    "    device = data['input_ids'].device\n",
    "\n",
    "    #编码文字\n",
    "    #[1, 77] -> [1, 77, 768]\n",
    "    out_encoder = encoder(data['input_ids'])[0]\n",
    "\n",
    "    #计算特征图\n",
    "    #[1, 3, 512, 512] -> [1, 4, 64, 64]\n",
    "    out_vae = vae.encode(data['pixel_values']).latent_dist.sample().detach()\n",
    "\n",
    "    #0.18215 = vae.config.scaling_factor\n",
    "    out_vae = out_vae * 0.18215\n",
    "\n",
    "    #随机噪声\n",
    "    #[1, 4, 64, 64]\n",
    "    noise = torch.randn_like(out_vae)\n",
    "\n",
    "    #随机噪声步\n",
    "    #1000 = scheduler.config.num_train_timesteps\n",
    "    #1 = b\n",
    "    noise_step = torch.randint(0, 1000, (1, ), device=device).long()\n",
    "\n",
    "    #添加噪声\n",
    "    #[1, 4, 64, 64]\n",
    "    out_vae_noise = scheduler.add_noise(out_vae, noise, noise_step)\n",
    "\n",
    "    #从噪声图中把噪声计算出来\n",
    "    #[1, 4, 64, 64],[1, 77, 768] -> [1, 4, 64, 64]\n",
    "    out_unet = unet(out_vae_noise, noise_step, out_encoder).sample\n",
    "\n",
    "    return criterion(out_unet, noise)\n",
    "\n",
    "\n",
    "get_loss({\n",
    "    'input_ids': torch.ones(1, 77).long(),\n",
    "    'pixel_values': torch.randn(1, 3, 512, 512)\n",
    "})"
   ]
  },
  {
   "cell_type": "code",
   "execution_count": 12,
   "id": "a93aae56",
   "metadata": {
    "scrolled": false
   },
   "outputs": [
    {
     "name": "stdout",
     "output_type": "stream",
     "text": [
      "0 0.05298610217869282\n",
      "20 3.669440200086683\n",
      "40 3.6395892064902\n",
      "60 4.406068226147909\n",
      "80 4.021411922876723\n",
      "100 4.375712881417712\n",
      "120 3.691248642571736\n",
      "140 4.046981384977698\n",
      "160 4.32251713424921\n",
      "180 4.481215654464904\n",
      "200 4.141445596702397\n",
      "220 3.5479576015495695\n",
      "240 4.255890477390494\n",
      "260 4.373657913354691\n",
      "280 3.9518783968524076\n",
      "300 3.48222059692489\n",
      "320 3.856919998244848\n",
      "340 4.329844517749734\n",
      "360 3.967784309934359\n",
      "380 3.713769310968928\n",
      "400 4.741978614707477\n",
      "420 3.2556250613415614\n",
      "440 3.7640564047615044\n",
      "460 4.055520819092635\n",
      "480 3.800076044688467\n",
      "500 4.761352627770975\n",
      "520 3.5383732234477066\n",
      "540 3.6530803244677372\n",
      "560 3.705913124314975\n",
      "580 3.817220114695374\n",
      "600 4.2431890980224125\n",
      "620 3.727043268852867\n",
      "640 4.312535111501347\n",
      "660 4.316632353293244\n",
      "680 3.5848469483316876\n",
      "700 4.623237420630176\n",
      "720 3.859215323231183\n",
      "740 3.680146592843812\n",
      "760 4.15289314155234\n",
      "780 3.849531917832792\n"
     ]
    }
   ],
   "source": [
    "#第4章/训练\n",
    "from diffusers import StableDiffusionPipeline\n",
    "\n",
    "\n",
    "def train():\n",
    "    device = 'cuda' if torch.cuda.is_available() else 'cpu'\n",
    "    encoder.to(device)\n",
    "    vae.to(device)\n",
    "    unet.to(device)\n",
    "    encoder.train()\n",
    "\n",
    "    loss_sum = 0\n",
    "    for epoch in range(800):\n",
    "        for i, data in enumerate(loader):\n",
    "            for k in data.keys():\n",
    "                data[k] = data[k].to(device)\n",
    "\n",
    "            loss = get_loss(data) / 4\n",
    "            loss.backward()\n",
    "\n",
    "            #积累更新\n",
    "            if (epoch * len(loader) + i) % 4 == 0:\n",
    "                optimizer.step()\n",
    "                optimizer.zero_grad()\n",
    "\n",
    "            loss_sum += loss.item()\n",
    "\n",
    "        if epoch % 20 == 0:\n",
    "            print(epoch, loss_sum)\n",
    "            loss_sum = 0\n",
    "\n",
    "    #保存\n",
    "    StableDiffusionPipeline.from_pretrained(\n",
    "        checkpoint,\n",
    "        text_encoder=encoder,\n",
    "        vae=vae,\n",
    "        unet=unet,\n",
    "        tokenizer=tokenizer).save_pretrained('./save')\n",
    "\n",
    "\n",
    "train()"
   ]
  }
 ],
 "metadata": {
  "kernelspec": {
   "display_name": "Python [conda env:pt39]",
   "language": "python",
   "name": "conda-env-pt39-py"
  },
  "language_info": {
   "codemirror_mode": {
    "name": "ipython",
    "version": 3
   },
   "file_extension": ".py",
   "mimetype": "text/x-python",
   "name": "python",
   "nbconvert_exporter": "python",
   "pygments_lexer": "ipython3",
   "version": "3.9.13"
  }
 },
 "nbformat": 4,
 "nbformat_minor": 5
}
