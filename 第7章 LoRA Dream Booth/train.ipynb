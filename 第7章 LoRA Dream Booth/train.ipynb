{
 "cells": [
  {
   "cell_type": "code",
   "execution_count": 1,
   "id": "3a4001b9",
   "metadata": {},
   "outputs": [],
   "source": [
    "#第7章/全局常量\n",
    "repo_id = 'lansinuote/diffusion.3.dream_booth'\n",
    "checkpoint = 'runwayml/stable-diffusion-v1-5'"
   ]
  },
  {
   "cell_type": "code",
   "execution_count": 2,
   "id": "315ad307",
   "metadata": {},
   "outputs": [
    {
     "name": "stderr",
     "output_type": "stream",
     "text": [
      "Using custom data configuration lansinuote--diffusion.3.dream_booth-4344a7d7501be7f1\n",
      "Found cached dataset parquet (/root/.cache/huggingface/datasets/lansinuote___parquet/lansinuote--diffusion.3.dream_booth-4344a7d7501be7f1/0.0.0/2a3b91fbd88a2c90d1dbbb32b460cf621d31bd5b05b934492fdef7d8d6f236ec)\n"
     ]
    },
    {
     "data": {
      "text/plain": [
       "(Dataset({\n",
       "     features: ['image', 'text'],\n",
       "     num_rows: 5\n",
       " }),\n",
       " {'image': <PIL.JpegImagePlugin.JpegImageFile image mode=RGB size=2469x2558>,\n",
       "  'text': 'a photo of little dog'})"
      ]
     },
     "execution_count": 2,
     "metadata": {},
     "output_type": "execute_result"
    }
   ],
   "source": [
    "#第7章/加载数据集\n",
    "from datasets import load_dataset\n",
    "\n",
    "dataset = load_dataset(path=repo_id, split='train')\n",
    "\n",
    "dataset, dataset[0]"
   ]
  },
  {
   "cell_type": "code",
   "execution_count": 3,
   "id": "2af94061",
   "metadata": {},
   "outputs": [
    {
     "name": "stdout",
     "output_type": "stream",
     "text": [
      "pixel_values torch.Size([3, 512, 512]) torch.float32\n",
      "input_ids torch.Size([77]) torch.int64\n",
      "attention_mask torch.Size([77]) torch.int64\n"
     ]
    },
    {
     "data": {
      "text/plain": [
       "Dataset({\n",
       "    features: ['image', 'text'],\n",
       "    num_rows: 5\n",
       "})"
      ]
     },
     "execution_count": 3,
     "metadata": {},
     "output_type": "execute_result"
    }
   ],
   "source": [
    "#第7章/数据集预处理\n",
    "import torchvision\n",
    "from transformers import AutoTokenizer\n",
    "\n",
    "#数据增强\n",
    "compose = torchvision.transforms.Compose([\n",
    "    torchvision.transforms.Resize(\n",
    "        512, interpolation=torchvision.transforms.InterpolationMode.BILINEAR),\n",
    "    torchvision.transforms.RandomCrop(512),\n",
    "    torchvision.transforms.ToTensor(),\n",
    "    torchvision.transforms.Normalize([0.5], [0.5]),\n",
    "])\n",
    "\n",
    "#文字编码\n",
    "tokenizer = AutoTokenizer.from_pretrained(checkpoint,\n",
    "                                          subfolder='tokenizer',\n",
    "                                          use_fast=False)\n",
    "\n",
    "\n",
    "def f(data):\n",
    "    #图像编码\n",
    "    pixel_values = compose(data['image'][0]).unsqueeze(dim=0)\n",
    "\n",
    "    #文字编码\n",
    "    #77 = tokenizer.model_max_length\n",
    "    tokens = tokenizer(data['text'][0],\n",
    "                       truncation=True,\n",
    "                       padding='max_length',\n",
    "                       max_length=77,\n",
    "                       return_tensors='pt')\n",
    "\n",
    "    return {\n",
    "        'pixel_values': pixel_values,\n",
    "        'input_ids': tokens.input_ids,\n",
    "        'attention_mask': tokens.attention_mask\n",
    "    }\n",
    "\n",
    "\n",
    "dataset = dataset.with_transform(f)\n",
    "\n",
    "for k, v in dataset[0].items():\n",
    "    print(k, v.shape, v.dtype)\n",
    "\n",
    "dataset"
   ]
  },
  {
   "cell_type": "code",
   "execution_count": 4,
   "id": "c07c2a12",
   "metadata": {},
   "outputs": [
    {
     "name": "stdout",
     "output_type": "stream",
     "text": [
      "pixel_values torch.Size([1, 3, 512, 512]) torch.float32\n",
      "input_ids torch.Size([1, 77]) torch.int64\n",
      "attention_mask torch.Size([1, 77]) torch.int64\n"
     ]
    },
    {
     "data": {
      "text/plain": [
       "5"
      ]
     },
     "execution_count": 4,
     "metadata": {},
     "output_type": "execute_result"
    }
   ],
   "source": [
    "#第7章/定义loader\n",
    "import torch\n",
    "\n",
    "loader = torch.utils.data.DataLoader(dataset,\n",
    "                                     batch_size=1,\n",
    "                                     shuffle=True,\n",
    "                                     collate_fn=None)\n",
    "\n",
    "for k, v in next(iter(loader)).items():\n",
    "    print(k, v.shape, v.dtype)\n",
    "\n",
    "len(loader)"
   ]
  },
  {
   "cell_type": "code",
   "execution_count": 5,
   "id": "e0459d36",
   "metadata": {},
   "outputs": [
    {
     "name": "stdout",
     "output_type": "stream",
     "text": [
      "encoder 12306.048\n",
      "vae 8365.3863\n",
      "unet 85952.0964\n"
     ]
    }
   ],
   "source": [
    "#第7章/加载模型\n",
    "from transformers.models.clip.modeling_clip import CLIPTextModel\n",
    "from diffusers import AutoencoderKL, UNet2DConditionModel\n",
    "\n",
    "encoder = CLIPTextModel.from_pretrained(checkpoint, subfolder='text_encoder')\n",
    "vae = AutoencoderKL.from_pretrained(checkpoint, subfolder='vae')\n",
    "unet = UNet2DConditionModel.from_pretrained(checkpoint, subfolder='unet')\n",
    "\n",
    "vae.requires_grad_(False)\n",
    "encoder.requires_grad_(False)\n",
    "unet.requires_grad_(False)\n",
    "\n",
    "\n",
    "def print_model_size(name, model):\n",
    "    print(name, sum(i.numel() for i in model.parameters()) / 10000)\n",
    "\n",
    "\n",
    "print_model_size('encoder', encoder)\n",
    "print_model_size('vae', vae)\n",
    "print_model_size('unet', unet)"
   ]
  },
  {
   "cell_type": "code",
   "execution_count": 6,
   "id": "c13480bb",
   "metadata": {},
   "outputs": [
    {
     "name": "stdout",
     "output_type": "stream",
     "text": [
      "down_blocks.0.attentions.0.transformer_blocks.0.attn1.processor 320 None\n",
      "down_blocks.0.attentions.0.transformer_blocks.0.attn2.processor 320 768\n",
      "down_blocks.0.attentions.1.transformer_blocks.0.attn1.processor 320 None\n",
      "down_blocks.0.attentions.1.transformer_blocks.0.attn2.processor 320 768\n",
      "down_blocks.1.attentions.0.transformer_blocks.0.attn1.processor 640 None\n",
      "down_blocks.1.attentions.0.transformer_blocks.0.attn2.processor 640 768\n",
      "down_blocks.1.attentions.1.transformer_blocks.0.attn1.processor 640 None\n",
      "down_blocks.1.attentions.1.transformer_blocks.0.attn2.processor 640 768\n",
      "down_blocks.2.attentions.0.transformer_blocks.0.attn1.processor 1280 None\n",
      "down_blocks.2.attentions.0.transformer_blocks.0.attn2.processor 1280 768\n",
      "down_blocks.2.attentions.1.transformer_blocks.0.attn1.processor 1280 None\n",
      "down_blocks.2.attentions.1.transformer_blocks.0.attn2.processor 1280 768\n",
      "up_blocks.1.attentions.0.transformer_blocks.0.attn1.processor 1280 None\n",
      "up_blocks.1.attentions.0.transformer_blocks.0.attn2.processor 1280 768\n",
      "up_blocks.1.attentions.1.transformer_blocks.0.attn1.processor 1280 None\n",
      "up_blocks.1.attentions.1.transformer_blocks.0.attn2.processor 1280 768\n",
      "up_blocks.1.attentions.2.transformer_blocks.0.attn1.processor 1280 None\n",
      "up_blocks.1.attentions.2.transformer_blocks.0.attn2.processor 1280 768\n",
      "up_blocks.2.attentions.0.transformer_blocks.0.attn1.processor 640 None\n",
      "up_blocks.2.attentions.0.transformer_blocks.0.attn2.processor 640 768\n",
      "up_blocks.2.attentions.1.transformer_blocks.0.attn1.processor 640 None\n",
      "up_blocks.2.attentions.1.transformer_blocks.0.attn2.processor 640 768\n",
      "up_blocks.2.attentions.2.transformer_blocks.0.attn1.processor 640 None\n",
      "up_blocks.2.attentions.2.transformer_blocks.0.attn2.processor 640 768\n",
      "up_blocks.3.attentions.0.transformer_blocks.0.attn1.processor 320 None\n",
      "up_blocks.3.attentions.0.transformer_blocks.0.attn2.processor 320 768\n",
      "up_blocks.3.attentions.1.transformer_blocks.0.attn1.processor 320 None\n",
      "up_blocks.3.attentions.1.transformer_blocks.0.attn2.processor 320 768\n",
      "up_blocks.3.attentions.2.transformer_blocks.0.attn1.processor 320 None\n",
      "up_blocks.3.attentions.2.transformer_blocks.0.attn2.processor 320 768\n",
      "mid_block.attentions.0.transformer_blocks.0.attn1.processor 1280 None\n",
      "mid_block.attentions.0.transformer_blocks.0.attn2.processor 1280 768\n"
     ]
    },
    {
     "name": "stderr",
     "output_type": "stream",
     "text": [
      "/root/anaconda3/envs/pt39/lib/python3.9/site-packages/diffusers/models/cross_attention.py:30: FutureWarning: Importing from cross_attention is deprecated. Please import from diffusers.models.attention_processor instead.\n",
      "  deprecate(\n",
      "/root/anaconda3/envs/pt39/lib/python3.9/site-packages/diffusers/models/cross_attention.py:58: FutureWarning: LoRACrossAttnProcessor is deprecated and will be removed in `0.18.0`. Please use `from diffusers.models.attention_processor import LoRAAttnProcessor instead.\n",
      "  deprecate(\"cross_attention\", \"0.18.0\", deprecation_message, standard_warn=False)\n"
     ]
    },
    {
     "data": {
      "text/plain": [
       "32"
      ]
     },
     "execution_count": 6,
     "metadata": {},
     "output_type": "execute_result"
    }
   ],
   "source": [
    "#第7章/创建LoRA神经网络层\n",
    "from diffusers.models.cross_attention import LoRACrossAttnProcessor\n",
    "\n",
    "\n",
    "def set_processors():\n",
    "    processors = {}\n",
    "\n",
    "    #遍历unet的所有层,找出所有有set_processor属性的层,每一个都组装成lora层\n",
    "    for name in unet.attn_processors.keys():\n",
    "        #768 = unet.config.cross_attention_dim\n",
    "        cross_attention_dim = 768\n",
    "        if name.endswith('attn1.processor'):\n",
    "            cross_attention_dim = None\n",
    "\n",
    "        #1280 = unet.config.block_out_channels[-1]\n",
    "        hidden_size = 1280\n",
    "\n",
    "        if name.startswith('up_blocks'):\n",
    "            #取层名字中的第一个数字\n",
    "            #p_blocks.1.attentions.0.transformer_blocks.0.attn1.processor -> 1\n",
    "            block_id = int(name[10])\n",
    "            hidden_size = list(reversed(\n",
    "                unet.config.block_out_channels))[block_id]\n",
    "\n",
    "        if name.startswith('down_blocks'):\n",
    "            #取层名字中的第一个数字\n",
    "            #down_blocks.2.attentions.0.transformer_blocks.0.attn1.processor -> 2\n",
    "            block_id = int(name[12])\n",
    "            hidden_size = unet.config.block_out_channels[block_id]\n",
    "\n",
    "        processors[name] = LoRACrossAttnProcessor(hidden_size,\n",
    "                                                  cross_attention_dim)\n",
    "\n",
    "        print(name, hidden_size, cross_attention_dim)\n",
    "\n",
    "    #把上面组装好的字典,设置到unet的层当中\n",
    "    unet.set_attn_processor(processors)\n",
    "\n",
    "    return torch.nn.ModuleList(unet.attn_processors.values())\n",
    "\n",
    "\n",
    "lora_layers = set_processors()\n",
    "\n",
    "len(lora_layers)"
   ]
  },
  {
   "cell_type": "code",
   "execution_count": 7,
   "id": "c6f4b455",
   "metadata": {},
   "outputs": [
    {
     "data": {
      "text/plain": [
       "(DDPMScheduler {\n",
       "   \"_class_name\": \"DDPMScheduler\",\n",
       "   \"_diffusers_version\": \"0.15.1\",\n",
       "   \"beta_end\": 0.012,\n",
       "   \"beta_schedule\": \"scaled_linear\",\n",
       "   \"beta_start\": 0.00085,\n",
       "   \"clip_sample\": false,\n",
       "   \"clip_sample_range\": 1.0,\n",
       "   \"dynamic_thresholding_ratio\": 0.995,\n",
       "   \"num_train_timesteps\": 1000,\n",
       "   \"prediction_type\": \"epsilon\",\n",
       "   \"sample_max_value\": 1.0,\n",
       "   \"set_alpha_to_one\": false,\n",
       "   \"skip_prk_steps\": true,\n",
       "   \"steps_offset\": 1,\n",
       "   \"thresholding\": false,\n",
       "   \"trained_betas\": null,\n",
       "   \"variance_type\": \"fixed_small\"\n",
       " },\n",
       " AdamW (\n",
       " Parameter Group 0\n",
       "     amsgrad: False\n",
       "     betas: (0.9, 0.999)\n",
       "     capturable: False\n",
       "     eps: 1e-08\n",
       "     foreach: None\n",
       "     lr: 0.0001\n",
       "     maximize: False\n",
       "     weight_decay: 0.01\n",
       " ),\n",
       " MSELoss())"
      ]
     },
     "execution_count": 7,
     "metadata": {},
     "output_type": "execute_result"
    }
   ],
   "source": [
    "#第7章/初始化工具类\n",
    "from diffusers import DDPMScheduler\n",
    "\n",
    "scheduler = DDPMScheduler.from_pretrained(checkpoint, subfolder='scheduler')\n",
    "\n",
    "optimizer = torch.optim.AdamW(lora_layers.parameters(),\n",
    "                              lr=1e-4,\n",
    "                              betas=(0.9, 0.999),\n",
    "                              weight_decay=0.01,\n",
    "                              eps=1e-8)\n",
    "\n",
    "criterion = torch.nn.MSELoss()\n",
    "\n",
    "scheduler, optimizer, criterion"
   ]
  },
  {
   "cell_type": "code",
   "execution_count": 8,
   "id": "b3effea6",
   "metadata": {},
   "outputs": [
    {
     "data": {
      "text/plain": [
       "tensor(0.2792, grad_fn=<MseLossBackward0>)"
      ]
     },
     "execution_count": 8,
     "metadata": {},
     "output_type": "execute_result"
    }
   ],
   "source": [
    "#第7章/定义计算loss的函数\n",
    "def get_loss(data):\n",
    "    device = data['input_ids'].device\n",
    "\n",
    "    #编码文字\n",
    "    #[1, 77] -> [1, 77, 768]\n",
    "    out_encoder = encoder(input_ids=data['input_ids'],\n",
    "                          attention_mask=data['attention_mask'])[0]\n",
    "\n",
    "    #计算特征图\n",
    "    #[1, 3, 512, 512] -> [1, 4, 64, 64]\n",
    "    out_vae = vae.encode(data['pixel_values']).latent_dist.sample().detach()\n",
    "\n",
    "    #0.18215 = vae.config.scaling_factor\n",
    "    out_vae = out_vae * 0.18215\n",
    "\n",
    "    #随机噪声\n",
    "    #[1, 4, 64, 64]\n",
    "    noise = torch.randn_like(out_vae)\n",
    "\n",
    "    #随机噪声步\n",
    "    #1000 = scheduler.config.num_train_timesteps\n",
    "    #1 = b\n",
    "    noise_step = torch.randint(0, 1000, (1, ), device=device).long()\n",
    "\n",
    "    #添加噪声\n",
    "    #[1, 4, 64, 64]\n",
    "    out_vae_noise = scheduler.add_noise(out_vae, noise, noise_step)\n",
    "\n",
    "    #从噪声图中把噪声计算出来\n",
    "    #[1, 4, 64, 64],[1, 77, 768] -> [1, 4, 64, 64]\n",
    "    out_unet = unet(out_vae_noise, noise_step, out_encoder).sample\n",
    "\n",
    "    return criterion(out_unet, noise)\n",
    "\n",
    "\n",
    "get_loss({\n",
    "    'pixel_values': torch.randn(1, 3, 512, 512),\n",
    "    'input_ids': torch.ones(1, 77).long(),\n",
    "    'attention_mask': torch.ones(1, 77).long()\n",
    "})"
   ]
  },
  {
   "cell_type": "code",
   "execution_count": 9,
   "id": "13a8c245",
   "metadata": {},
   "outputs": [
    {
     "name": "stdout",
     "output_type": "stream",
     "text": [
      "0 1.5372274816036224\n",
      "10 4.841767566744238\n",
      "20 4.612118934630416\n",
      "30 5.884213687619194\n",
      "40 5.1643907791003585\n",
      "50 6.224851356353611\n",
      "60 4.4865004296880215\n",
      "70 2.892019562306814\n",
      "80 3.9639462111517787\n",
      "90 2.890541360131465\n",
      "100 4.777392436284572\n",
      "110 4.6514521923381835\n",
      "120 4.407747785095125\n",
      "130 3.77918853063602\n",
      "140 4.638857806101441\n",
      "150 4.5095627416158095\n",
      "160 6.594769516959786\n",
      "170 5.017870861222036\n",
      "180 5.188574061263353\n",
      "190 4.35909217922017\n"
     ]
    }
   ],
   "source": [
    "#第7章/训练\n",
    "from diffusers import DiffusionPipeline\n",
    "\n",
    "\n",
    "def train():\n",
    "    device = 'cuda' if torch.cuda.is_available() else 'cpu'\n",
    "    unet.to(device)\n",
    "    vae.to(device)\n",
    "    encoder.to(device)\n",
    "    unet.train()\n",
    "\n",
    "    loss_sum = 0\n",
    "    for epoch in range(200):\n",
    "        for i, data in enumerate(loader):\n",
    "            for k in data.keys():\n",
    "                data[k] = data[k].to(device)\n",
    "            loss = get_loss(data)\n",
    "\n",
    "            loss.backward()\n",
    "            torch.nn.utils.clip_grad_norm_(lora_layers.parameters(), 1.0)\n",
    "            optimizer.step()\n",
    "            optimizer.zero_grad()\n",
    "\n",
    "            loss_sum += loss.item()\n",
    "\n",
    "        if epoch % 10 == 0:\n",
    "            print(epoch, loss_sum)\n",
    "            loss_sum = 0\n",
    "\n",
    "    unet.save_attn_procs('./save')\n",
    "\n",
    "\n",
    "train()"
   ]
  }
 ],
 "metadata": {
  "kernelspec": {
   "display_name": "Python [conda env:pt39]",
   "language": "python",
   "name": "conda-env-pt39-py"
  },
  "language_info": {
   "codemirror_mode": {
    "name": "ipython",
    "version": 3
   },
   "file_extension": ".py",
   "mimetype": "text/x-python",
   "name": "python",
   "nbconvert_exporter": "python",
   "pygments_lexer": "ipython3",
   "version": "3.9.13"
  }
 },
 "nbformat": 4,
 "nbformat_minor": 5
}
